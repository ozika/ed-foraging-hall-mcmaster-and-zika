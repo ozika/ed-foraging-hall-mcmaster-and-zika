{
 "cells": [
  {
   "cell_type": "markdown",
   "metadata": {},
   "source": [
    "## Preprocessing script \n",
    "\n",
    "There are two main outputs of this script:\n",
    "1) Data for leaving trial (only leave trials) \n",
    "2) Data for all trials \n"
   ]
  },
  {
   "cell_type": "code",
   "execution_count": 3,
   "metadata": {},
   "outputs": [
    {
     "name": "stderr",
     "output_type": "stream",
     "text": [
      "/home/ondrej/anaconda3/envs/foraging_env/lib/python3.8/site-packages/pandas/core/arraylike.py:397: RuntimeWarning: divide by zero encountered in log\n",
      "  result = getattr(ufunc, method)(*inputs, **kwargs)\n"
     ]
    }
   ],
   "source": [
    "import numpy as np\n",
    "import pandas as pd\n",
    "import os\n",
    "import seaborn as sns\n",
    "import matplotlib.pyplot as plt\n",
    "from groo.groo import get_root\n",
    "root_dir = get_root(\".ed-foraging-root\")\n",
    "\n",
    "files=os.listdir(os.path.join(root_dir, 'anon-data', 'task_data', 'raw_data') )\n",
    "\n",
    "data = pd.DataFrame()\n",
    "fulldata = pd.DataFrame()\n",
    "for f_idx, f in enumerate(files):\n",
    "    df = pd.read_csv(os.path.join(root_dir, 'anon-data', 'task_data', 'raw_data', f))\n",
    "\n",
    "    # Filter file for only the relevant lines \n",
    "    df = df.loc[df[\"decision_type\"].isin([1,2])]\n",
    "    df[\"id\"] = df[\"PROLIFIC_PID\"]\n",
    "    \n",
    "    df[\"decay_lvl\"] = df[\"decay_rate_mean\"].replace({0.81: \"low\", 0.84:\"low\", 0.91: \"high\", 0.96: \"high\"})\n",
    "    df[\"decay_fac\"] = df[\"decay_rate_mean\"].replace({0.81: \"fast\", 0.84:\"fast\", 0.91: \"slow\", 0.96: \"slow\"})\n",
    "    df[\"travel_time_lvl\"] = df[\"travel_duration\"].replace({2:\"short\", 2.5: \"short\", 3: \"short\", 9: \"long\"})\n",
    "\n",
    "    data = pd.concat([data, df])\n",
    "\n",
    "\n",
    "# Write full data set \n",
    "#fulldata.to_csv(os.path.join(root_dir, 'anon-data', 'task_data', 'foraging_raw_behavioural_data.csv'))\n",
    "\n",
    "# Merge questionnaire and behavioural data \n",
    "qdata = pd.read_csv(os.path.join(root_dir, 'anon-data', 'questionnaires', 'anonymized_final_questonnaire_data.csv'))\n",
    "final_ids = qdata[\"PROLIFICID\"]\n",
    "data = data.loc[data[\"PROLIFIC_PID\"].isin(final_ids),].set_index(\"PROLIFIC_PID\")\n",
    "data = data.join(qdata.set_index(\"PROLIFICID\"), rsuffix=\"_qq\")\n",
    "data[\"group\"] = data[\"recruitment_group\"]\n",
    "\n",
    "export = 1\n",
    "keep_columns = [\"patch_actions_taken\", \"patch_time_elapsed_seconds\", \"blk_number\", \"interviewtime\", \"blk_time_remaining_event_onset\", \"patch_reward_prospective\", \"exploit_phase_RT\", \"id\", \"age\", \"gender\", \"diagnosis\", \"which_diagnosis\", \"EducationYears\", \"decay_lvl\", \"decay_fac\", \"travel_time_lvl\", \"decay_rate_mean\", \"travel_duration\",  \"group\", \"trials.thisN\"]\n",
    "## Filter for only leaving \n",
    "tdf = data.loc[data[\"exploit_phase_key\"].isin([\"s\"]),keep_columns]\n",
    "tdf=tdf.rename(columns={\"exploit_phase_RT\": \"RT\", \n",
    "                        \"trials.thisN\": \"episode\",\n",
    "                        \"interviewtime\": \"survey_duration\", \n",
    "                        \"block\":\"blk_number\",\n",
    "                        \"patch_time_elapsed_seconds\": \"patch_time\", \n",
    "                        \"patch_reward_prospective\": \"reward_remaining\", \n",
    "                        \"blk_time_remaining_event_onset\": \"remaining_time\"})\n",
    "tdf[\"logRT\"] = np.log(tdf[\"RT\"])\n",
    "if export == 1:\n",
    "    tdf.to_csv(os.path.join(root_dir, 'anon-data', 'task_data', 'leaving_time_data.csv'))\n",
    "\n",
    "\n",
    "keep_columns = [\"patch_actions_taken\",\"patch_reward_prospective\", \"id\", \"age\", \"gender\", \"EducationYears\", \"decay_lvl\",\"decay_fac\", \"travel_time_lvl\", \"decay_rate_mean\", \"travel_duration\", \"blk_time_remaining_event_onset\",  \"group\", \"patch_reward_recieved\", \"patch_time_elapsed_seconds\", \"exploit_phase_RT\", \"decision_type\", \"blk_number\", \"trials.thisN\" ]\n",
    "col_mapping ={\"trials.thisN\": \"episode\", \"exploit_phase_RT\": \"RT\", \"patch_time_elapsed_seconds\": \"patch_time\", \n",
    "                        \"patch_reward_prospective\": \"reward_remaining\", \n",
    "                        \"blk_time_remaining_event_onset\": \"remaining_time\"}\n",
    "\n",
    "\n",
    "tdf = data.loc[data[\"exploit_phase_key\"].isin([\"s\", \"space\"]),keep_columns].rename(columns=col_mapping)\n",
    "\n",
    "if export == 1:\n",
    "    tdf.to_csv(os.path.join(root_dir, 'anon-data', 'task_data', 'full_beh_data.csv'))"
   ]
  }
 ],
 "metadata": {
  "kernelspec": {
   "display_name": "Python 3.8.13 ('foraging_env')",
   "language": "python",
   "name": "python3"
  },
  "language_info": {
   "codemirror_mode": {
    "name": "ipython",
    "version": 3
   },
   "file_extension": ".py",
   "mimetype": "text/x-python",
   "name": "python",
   "nbconvert_exporter": "python",
   "pygments_lexer": "ipython3",
   "version": "3.8.13"
  },
  "orig_nbformat": 4,
  "vscode": {
   "interpreter": {
    "hash": "88601f230631d61b1ba3f258120e72db4039985aacf95f790734d995c379bed8"
   }
  }
 },
 "nbformat": 4,
 "nbformat_minor": 2
}
